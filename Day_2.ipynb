{
 "cells": [
  {
   "cell_type": "code",
   "execution_count": null,
   "id": "9b52f634-5d19-4f19-a217-8fc59aa17198",
   "metadata": {},
   "outputs": [],
   "source": [
    "Introduction to python programming :"
   ]
  },
  {
   "cell_type": "code",
   "execution_count": null,
   "id": "2b05d1c3-02ca-424c-8c59-32130f9ddd3b",
   "metadata": {},
   "outputs": [],
   "source": [
    "Understanding the variables in python :"
   ]
  },
  {
   "cell_type": "code",
   "execution_count": 10,
   "id": "3ac6ca0f-5880-4945-976c-5cc3a779e4fc",
   "metadata": {},
   "outputs": [
    {
     "name": "stdout",
     "output_type": "stream",
     "text": [
      "5\n"
     ]
    }
   ],
   "source": [
    "x = 2\n",
    "y = 3\n",
    "z = x+y\n",
    "\n",
    "print(z)"
   ]
  },
  {
   "cell_type": "code",
   "execution_count": null,
   "id": "76cd83ec-e075-414c-9c29-f99d1cdec836",
   "metadata": {},
   "outputs": [],
   "source": [
    "Rules for declaring the variables :"
   ]
  },
  {
   "cell_type": "code",
   "execution_count": null,
   "id": "329d0af5-d6b5-4900-83a8-1e4f420e8104",
   "metadata": {},
   "outputs": [],
   "source": [
    "Rule No- 1 : No Namespaces while declaring the variable name"
   ]
  },
  {
   "cell_type": "code",
   "execution_count": 14,
   "id": "75bec45e-db5a-4dfc-aafe-4c15601024e5",
   "metadata": {},
   "outputs": [
    {
     "ename": "SyntaxError",
     "evalue": "invalid syntax (4253766231.py, line 1)",
     "output_type": "error",
     "traceback": [
      "\u001b[1;36m  Cell \u001b[1;32mIn[14], line 1\u001b[1;36m\u001b[0m\n\u001b[1;33m    first name = \"Kajol\"\u001b[0m\n\u001b[1;37m          ^\u001b[0m\n\u001b[1;31mSyntaxError\u001b[0m\u001b[1;31m:\u001b[0m invalid syntax\n"
     ]
    }
   ],
   "source": [
    "first name = \"Kajol\"\n",
    "\n",
    "print(first name)"
   ]
  },
  {
   "cell_type": "code",
   "execution_count": 16,
   "id": "2140b24e-0169-459a-83e1-5db76676d544",
   "metadata": {},
   "outputs": [
    {
     "name": "stdout",
     "output_type": "stream",
     "text": [
      "Kajol\n"
     ]
    }
   ],
   "source": [
    "firstname = \"Kajol\"\n",
    "\n",
    "print(firstname)"
   ]
  },
  {
   "cell_type": "code",
   "execution_count": 18,
   "id": "3a4199fb-bd1b-4280-adc0-56931b881961",
   "metadata": {},
   "outputs": [
    {
     "name": "stdout",
     "output_type": "stream",
     "text": [
      "Kajol\n"
     ]
    }
   ],
   "source": [
    "first_name = \"Kajol\"\n",
    "\n",
    "print(first_name)"
   ]
  },
  {
   "cell_type": "code",
   "execution_count": null,
   "id": "e7c662d7-4e5b-4617-beda-7a24ebba086a",
   "metadata": {},
   "outputs": [],
   "source": [
    "Rule No- 2 : A variable name should not start with a number **"
   ]
  },
  {
   "cell_type": "code",
   "execution_count": 20,
   "id": "903419c9-3ac9-4482-844a-b6d262919a47",
   "metadata": {},
   "outputs": [
    {
     "ename": "SyntaxError",
     "evalue": "invalid decimal literal (2631173130.py, line 1)",
     "output_type": "error",
     "traceback": [
      "\u001b[1;36m  Cell \u001b[1;32mIn[20], line 1\u001b[1;36m\u001b[0m\n\u001b[1;33m    1name = \"Shahanaz\"\u001b[0m\n\u001b[1;37m    ^\u001b[0m\n\u001b[1;31mSyntaxError\u001b[0m\u001b[1;31m:\u001b[0m invalid decimal literal\n"
     ]
    }
   ],
   "source": [
    "1name = \"Shahanaz\"\n",
    "\n",
    "print(1name)"
   ]
  },
  {
   "cell_type": "code",
   "execution_count": 22,
   "id": "34137de6-39eb-42a2-aa30-fa0bc71c5e9e",
   "metadata": {},
   "outputs": [
    {
     "name": "stdout",
     "output_type": "stream",
     "text": [
      "Shahanaz\n"
     ]
    }
   ],
   "source": [
    "name1 = \"Shahanaz\"\n",
    "\n",
    "print(name1)"
   ]
  },
  {
   "cell_type": "code",
   "execution_count": null,
   "id": "58c038fa-bb5b-4e09-a4ee-26e4d6ab1764",
   "metadata": {},
   "outputs": [],
   "source": [
    "Rule No- 3 : A variable name should not contain anyspecial characters"
   ]
  },
  {
   "cell_type": "code",
   "execution_count": null,
   "id": "0e8b807c-27fc-4de2-af61-b20bd58a809c",
   "metadata": {},
   "outputs": [],
   "source": [
    "@ # $ % ^& *"
   ]
  },
  {
   "cell_type": "code",
   "execution_count": null,
   "id": "72904a10-2ffd-4ac5-acee-9742b1500b57",
   "metadata": {},
   "outputs": [],
   "source": [
    "name@ = \"\""
   ]
  }
 ],
 "metadata": {
  "kernelspec": {
   "display_name": "Python 3 (ipykernel)",
   "language": "python",
   "name": "python3"
  },
  "language_info": {
   "codemirror_mode": {
    "name": "ipython",
    "version": 3
   },
   "file_extension": ".py",
   "mimetype": "text/x-python",
   "name": "python",
   "nbconvert_exporter": "python",
   "pygments_lexer": "ipython3",
   "version": "3.12.4"
  }
 },
 "nbformat": 4,
 "nbformat_minor": 5
}
