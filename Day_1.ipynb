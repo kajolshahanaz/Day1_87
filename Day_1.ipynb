{
 "cells": [
  {
   "cell_type": "code",
   "execution_count": null,
   "id": "7d076b1f-45f0-455b-9e00-75707139c75b",
   "metadata": {},
   "outputs": [],
   "source": [
    "print(\"Hello all welcome to the python programming world!\")"
   ]
  }
 ],
 "metadata": {
  "kernelspec": {
   "display_name": "",
   "name": ""
  },
  "language_info": {
   "name": ""
  }
 },
 "nbformat": 4,
 "nbformat_minor": 5
}
